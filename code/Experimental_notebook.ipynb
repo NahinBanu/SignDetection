{
 "cells": [
  {
   "cell_type": "code",
   "execution_count": 23,
   "metadata": {},
   "outputs": [],
   "source": [
    "from ProcessImage import Load_Image, Resize_Image, Detect_box, Save_Image\n",
    "import matplotlib.pyplot as plt\n",
    "import numpy as np\n",
    "import cv2\n",
    "import os\n",
    "import tensorflow as tf"
   ]
  },
  {
   "cell_type": "code",
   "execution_count": 28,
   "metadata": {},
   "outputs": [
    {
     "name": "stdout",
     "output_type": "stream",
     "text": [
      ".........\n"
     ]
    }
   ],
   "source": [
    "os.chdir(\"/home/ramiz/signatureDetection/Signs/Originals/Hindi/\")\n",
    "\n",
    "Hindi_01 = Load_Image(\"./01\")\n",
    "Hindi_02 = Load_Image(\"./02\")\n",
    "Hindi_03 = Load_Image(\"./03\")\n",
    "Hindi_04 = Load_Image(\"./04\")\n",
    "Hindi_05 = Load_Image(\"./05\")\n",
    "Hindi_06 = Load_Image(\"./06\")\n",
    "Hindi_07 = Load_Image(\"./07\")\n",
    "Hindi_08 = Load_Image(\"./08\")\n",
    "Hindi_09 = Load_Image(\"./09\")\n",
    "Hindi_10 = Load_Image(\"./10\")\n",
    "\n",
    "Hindi_10 = Load_Image(\"./10\")\n",
    "Hindi_11 = Load_Image(\"./11\")\n",
    "Hindi_12 = Load_Image(\"./12\")\n",
    "Hindi_13 = Load_Image(\"./13\")\n",
    "Hindi_14 = Load_Image(\"./14\")\n",
    "Hindi_15 = Load_Image(\"./15\")\n",
    "Hindi_16 = Load_Image(\"./16\")\n",
    "Hindi_17 = Load_Image(\"./17\")\n",
    "Hindi_18 = Load_Image(\"./18\")\n",
    "Hindi_19 = Load_Image(\"./19\")\n",
    "Hindi_20 = Load_Image(\"./20\")\n",
    "\n",
    "Hindi_21 = Load_Image(\"./21\")\n",
    "Hindi_22 = Load_Image(\"./22\")\n",
    "Hindi_23 = Load_Image(\"./23\")\n",
    "Hindi_24 = Load_Image(\"./24\")\n",
    "Hindi_25 = Load_Image(\"./25\")\n",
    "Hindi_26 = Load_Image(\"./26\")\n",
    "Hindi_27 = Load_Image(\"./27\")\n",
    "Hindi_28 = Load_Image(\"./28\")\n",
    "Hindi_29 = Load_Image(\"./29\")\n",
    "Hindi_30 = Load_Image(\"./30\")\n",
    "\n",
    "Hindi_31 = Load_Image(\"./31\")\n",
    "Hindi_32 = Load_Image(\"./32\")\n",
    "Hindi_33 = Load_Image(\"./33\")\n",
    "Hindi_34 = Load_Image(\"./34\")\n",
    "Hindi_35 = Load_Image(\"./35\")\n",
    "Hindi_36 = Load_Image(\"./36\")\n",
    "Hindi_37 = Load_Image(\"./37\")\n",
    "Hindi_38 = Load_Image(\"./38\")\n",
    "Hindi_39 = Load_Image(\"./39\")\n",
    "Hindi_40 = Load_Image(\"./40\")\n",
    "\n",
    "Hindi_41 = Load_Image(\"./41\")\n",
    "Hindi_42 = Load_Image(\"./42\")\n",
    "Hindi_43 = Load_Image(\"./43\")\n",
    "Hindi_44 = Load_Image(\"./44\")\n",
    "Hindi_45 = Load_Image(\"./45\")\n",
    "Hindi_46 = Load_Image(\"./46\")\n",
    "\n",
    "print(\".........\")"
   ]
  },
  {
   "cell_type": "code",
   "execution_count": 29,
   "metadata": {},
   "outputs": [
    {
     "name": "stdout",
     "output_type": "stream",
     "text": [
      "52\n",
      "52\n",
      "26\n",
      "26\n",
      "26\n",
      "26\n",
      "26\n",
      "26\n",
      "52\n",
      "26\n"
     ]
    }
   ],
   "source": [
    "print(len(Hindi_01))\n",
    "print(len(Hindi_02))\n",
    "print(len(Hindi_03))\n",
    "print(len(Hindi_04))\n",
    "print(len(Hindi_05))\n",
    "print(len(Hindi_06))\n",
    "print(len(Hindi_07))\n",
    "print(len(Hindi_08))\n",
    "print(len(Hindi_09))\n",
    "print(len(Hindi_10))"
   ]
  },
  {
   "cell_type": "code",
   "execution_count": 30,
   "metadata": {},
   "outputs": [
    {
     "name": "stdout",
     "output_type": "stream",
     "text": [
      "(114, 696, 3)\n",
      "(112, 892, 3)\n",
      "(102, 812, 3)\n",
      "(110, 655, 3)\n",
      "(109, 409, 3)\n",
      "(122, 809, 3)\n",
      "(99, 826, 3)\n",
      "(119, 799, 3)\n",
      "(111, 802, 3)\n",
      "(102, 683, 3)\n",
      "(106, 844, 3)\n",
      "(118, 748, 3)\n",
      "(101, 695, 3)\n",
      "(112, 945, 3)\n",
      "(111, 663, 3)\n",
      "(108, 780, 3)\n",
      "(106, 678, 3)\n",
      "(104, 677, 3)\n",
      "(119, 879, 3)\n",
      "(102, 678, 3)\n",
      "(112, 729, 3)\n",
      "(116, 678, 3)\n",
      "(99, 801, 3)\n",
      "(110, 811, 3)\n",
      "(125, 879, 3)\n",
      "(102, 832, 3)\n",
      "(115, 798, 3)\n",
      "(103, 817, 3)\n",
      "(113, 667, 3)\n",
      "(111, 926, 3)\n",
      "(116, 704, 3)\n",
      "(115, 677, 3)\n",
      "(107, 795, 3)\n",
      "(101, 756, 3)\n",
      "(100, 715, 3)\n",
      "(107, 790, 3)\n",
      "(121, 796, 3)\n",
      "(99, 694, 3)\n",
      "(111, 855, 3)\n",
      "(115, 883, 3)\n",
      "(121, 741, 3)\n",
      "(122, 807, 3)\n",
      "(97, 654, 3)\n",
      "(105, 730, 3)\n",
      "(108, 814, 3)\n",
      "(116, 757, 3)\n",
      "(107, 745, 3)\n",
      "(110, 638, 3)\n",
      "(111, 705, 3)\n",
      "(106, 816, 3)\n",
      "(99, 690, 3)\n",
      "(104, 690, 3)\n"
     ]
    }
   ],
   "source": [
    "for i in range(len(Hindi_01)):\n",
    "    print(Hindi_46[i].shape)"
   ]
  },
  {
   "cell_type": "code",
   "execution_count": null,
   "metadata": {},
   "outputs": [],
   "source": [
    "shape = (80)"
   ]
  }
 ],
 "metadata": {
  "kernelspec": {
   "display_name": "Python 3",
   "language": "python",
   "name": "python3"
  },
  "language_info": {
   "codemirror_mode": {
    "name": "ipython",
    "version": 3
   },
   "file_extension": ".py",
   "mimetype": "text/x-python",
   "name": "python",
   "nbconvert_exporter": "python",
   "pygments_lexer": "ipython3",
   "version": "3.8.5"
  }
 },
 "nbformat": 4,
 "nbformat_minor": 4
}
